{
  "nbformat": 4,
  "nbformat_minor": 0,
  "metadata": {
    "colab": {
      "provenance": [],
      "gpuType": "T4",
      "authorship_tag": "ABX9TyN1tFvrLCYao83/zNcc8utg",
      "include_colab_link": true
    },
    "kernelspec": {
      "name": "python3",
      "display_name": "Python 3"
    },
    "language_info": {
      "name": "python"
    },
    "accelerator": "GPU"
  },
  "cells": [
    {
      "cell_type": "markdown",
      "metadata": {
        "id": "view-in-github",
        "colab_type": "text"
      },
      "source": [
        "<a href=\"https://colab.research.google.com/github/malafisa/Gli/blob/main/Untitled3.ipynb\" target=\"_parent\"><img src=\"https://colab.research.google.com/assets/colab-badge.svg\" alt=\"Open In Colab\"/></a>"
      ]
    },
    {
      "cell_type": "code",
      "execution_count": null,
      "metadata": {
        "id": "cue2D9z1lX-m"
      },
      "outputs": [],
      "source": []
    },
    {
      "cell_type": "code",
      "source": [
        "#Import torch\n",
        "import torch\n",
        "\n",
        "#Create random tensor\n",
        "random_tensor= torch.rand(7,7)\n",
        "\n",
        "\n"
      ],
      "metadata": {
        "id": "-RycDArQtaId"
      },
      "execution_count": 3,
      "outputs": []
    },
    {
      "cell_type": "code",
      "source": [
        "tensor_1 = torch.rand(7, 7)\n",
        "tensor_2 = torch.rand(1, 7)\n",
        "tensor_2_transposed = tensor_2.T\n",
        "result = torch.matmul(tensor_1, tensor_2_transposed)"
      ],
      "metadata": {
        "id": "KxM9o7TbuZj2"
      },
      "execution_count": 4,
      "outputs": []
    },
    {
      "cell_type": "code",
      "source": [
        "torch.manual_seed(0)\n",
        "\n",
        "tensor_1 = torch.rand(7, 7)\n",
        "\n",
        "tensor_2 = torch.rand(1, 7)\n",
        "\n",
        "tensor_2_transposed = tensor_2.T\n",
        "\n",
        "result = torch.matmul(tensor_1, tensor_2_transposed)\n",
        "\n",
        "#print(result, result.size())"
      ],
      "metadata": {
        "id": "A5NBm6XVv_RP"
      },
      "execution_count": 5,
      "outputs": []
    },
    {
      "cell_type": "code",
      "source": [
        "torch.cuda.manual_seed(1234)"
      ],
      "metadata": {
        "id": "Oc2TQVu1xTIg"
      },
      "execution_count": 6,
      "outputs": []
    },
    {
      "cell_type": "code",
      "source": [
        "device = torch.device('cuda')\n",
        "print(f\"Device: {device}\")\n",
        "\n",
        "tensor_1 = torch.rand(2, 3, device=device)\n",
        "tensor_2 = torch.rand(2, 3, device=device)\n",
        "\n",
        "#print(tensor_1)\n",
        "#print(tensor_2)\n"
      ],
      "metadata": {
        "colab": {
          "base_uri": "https://localhost:8080/"
        },
        "id": "-199o6_gyGTh",
        "outputId": "3da000d3-79f7-4215-eb9b-78c3229e7d44"
      },
      "execution_count": 8,
      "outputs": [
        {
          "output_type": "stream",
          "name": "stdout",
          "text": [
            "Device: cuda\n"
          ]
        }
      ]
    },
    {
      "cell_type": "code",
      "source": [
        "result = torch.matmul(tensor_1, tensor_2.T)\n",
        "\n",
        "#print(result)\n",
        "#print(result.shape)"
      ],
      "metadata": {
        "colab": {
          "base_uri": "https://localhost:8080/"
        },
        "id": "u3E2B3Y_CxB7",
        "outputId": "9da02980-fd75-4cc1-86e4-da529f561a10"
      },
      "execution_count": 9,
      "outputs": [
        {
          "output_type": "stream",
          "name": "stdout",
          "text": [
            "tensor([[0.6407, 0.5931],\n",
            "        [0.5043, 0.6066]], device='cuda:0')\n",
            "torch.Size([2, 2])\n"
          ]
        }
      ]
    },
    {
      "cell_type": "code",
      "source": [
        "max_value = torch.max(result)\n",
        "min_value = torch.min(result)"
      ],
      "metadata": {
        "id": "LCPumtjfFPO5"
      },
      "execution_count": 18,
      "outputs": []
    },
    {
      "cell_type": "code",
      "source": [
        "max_index = torch.argmax(result)\n",
        "\n",
        "min_index = torch.argmin(result)\n",
        "\n",
        "#print(f\"Index of Maximum Value: {max_index}\")\n",
        "#print(f\"Index of Minimum Value: {min_index}\")"
      ],
      "metadata": {
        "colab": {
          "base_uri": "https://localhost:8080/"
        },
        "id": "oQNNvtl7LW5t",
        "outputId": "91e9bd1a-1faa-4346-af90-d85d4f6a7749"
      },
      "execution_count": 19,
      "outputs": [
        {
          "output_type": "stream",
          "name": "stdout",
          "text": [
            "Index of Maximum Value: 0\n",
            "Index of Minimum Value: 2\n"
          ]
        }
      ]
    },
    {
      "cell_type": "code",
      "source": [
        "#set seed\n",
        "torch.manual_seed(7)\n",
        "\n",
        "#create random tensor\n",
        "tensor_1 = torch.rand(1, 1, 1, 10)\n",
        "\n",
        "# Remove single dimensions\n",
        "tensor_2 = tensor_1.squeeze()\n",
        "\n",
        "#print the first tensor and shape\n",
        "print(f\"Tensor 1:\\n{tensor_1}\")\n",
        "print(f\"Shape of Tensor 1: {tensor_1.shape}\")\n",
        "\n",
        "#print the second tensor and shape\n",
        "print(f\"Tensor 2:\\n{tensor_2}\")\n",
        "print(f\"Shape of Tensor 2: {tensor_2.shape}\")\n"
      ],
      "metadata": {
        "colab": {
          "base_uri": "https://localhost:8080/"
        },
        "id": "UEqamyHTL4aC",
        "outputId": "84be82e0-3f6f-40bb-cc99-0431badc4b55"
      },
      "execution_count": 22,
      "outputs": [
        {
          "output_type": "stream",
          "name": "stdout",
          "text": [
            "Tensor 1:\n",
            "tensor([[[[0.5349, 0.1988, 0.6592, 0.6569, 0.2328, 0.4251, 0.2071, 0.6297,\n",
            "           0.3653, 0.8513]]]])\n",
            "Shape of Tensor 1: torch.Size([1, 1, 1, 10])\n",
            "Tensor 2:\n",
            "tensor([0.5349, 0.1988, 0.6592, 0.6569, 0.2328, 0.4251, 0.2071, 0.6297, 0.3653,\n",
            "        0.8513])\n",
            "Shape of Tensor 2: torch.Size([10])\n"
          ]
        }
      ]
    }
  ]
}